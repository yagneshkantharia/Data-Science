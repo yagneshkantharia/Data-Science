{
 "cells": [
  {
   "cell_type": "code",
   "execution_count": 12,
   "id": "f0feaa6c",
   "metadata": {},
   "outputs": [
    {
     "name": "stdout",
     "output_type": "stream",
     "text": [
      "hello world!\n"
     ]
    }
   ],
   "source": [
    "print (\"hello world!\")\n"
   ]
  },
  {
   "cell_type": "code",
   "execution_count": 14,
   "id": "57366284",
   "metadata": {},
   "outputs": [
    {
     "name": "stdout",
     "output_type": "stream",
     "text": [
      "yagnesh kantharia\n"
     ]
    }
   ],
   "source": [
    "print (\"yagnesh kantharia\")"
   ]
  },
  {
   "cell_type": "code",
   "execution_count": 7,
   "id": "9668b754",
   "metadata": {},
   "outputs": [
    {
     "data": {
      "text/plain": [
       "466"
      ]
     },
     "execution_count": 7,
     "metadata": {},
     "output_type": "execute_result"
    }
   ],
   "source": [
    "10+456"
   ]
  },
  {
   "cell_type": "code",
   "execution_count": 9,
   "id": "69c9a0e6",
   "metadata": {},
   "outputs": [
    {
     "data": {
      "text/plain": [
       "6174"
      ]
     },
     "execution_count": 9,
     "metadata": {},
     "output_type": "execute_result"
    }
   ],
   "source": [
    "63*98"
   ]
  },
  {
   "cell_type": "code",
   "execution_count": 10,
   "id": "bf72682d",
   "metadata": {},
   "outputs": [
    {
     "data": {
      "text/plain": [
       "123.88372093023256"
      ]
     },
     "execution_count": 10,
     "metadata": {},
     "output_type": "execute_result"
    }
   ],
   "source": [
    "5327/43"
   ]
  },
  {
   "cell_type": "code",
   "execution_count": 16,
   "id": "74b8df69",
   "metadata": {},
   "outputs": [
    {
     "name": "stdout",
     "output_type": "stream",
     "text": [
      "om namaha shivaya\n"
     ]
    }
   ],
   "source": [
    "print(\"om namaha shivaya\")"
   ]
  },
  {
   "cell_type": "markdown",
   "id": "25c995f8",
   "metadata": {},
   "source": [
    "print (\"yagnesh bhagatsingh kantharia\")"
   ]
  }
 ],
 "metadata": {
  "kernelspec": {
   "display_name": "Python 3 (ipykernel)",
   "language": "python",
   "name": "python3"
  },
  "language_info": {
   "codemirror_mode": {
    "name": "ipython",
    "version": 3
   },
   "file_extension": ".py",
   "mimetype": "text/x-python",
   "name": "python",
   "nbconvert_exporter": "python",
   "pygments_lexer": "ipython3",
   "version": "3.11.5"
  }
 },
 "nbformat": 4,
 "nbformat_minor": 5
}
